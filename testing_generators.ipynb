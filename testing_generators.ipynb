{
 "cells": [
  {
   "cell_type": "code",
   "execution_count": 1,
   "metadata": {},
   "outputs": [],
   "source": [
    "from sentence_generator import GrammarSampler\n",
    "\n",
    "from grammar_generator import main\n",
    "\n",
    "num_words = 20\n",
    "num_classes = 4\n",
    "num_class_connectors = 9\n",
    "connectors_limit = 2\n",
    "num_sentences = 1\n",
    "gramfile=\"simple_grammar0.txt\""
   ]
  },
  {
   "cell_type": "code",
   "execution_count": 5,
   "metadata": {
    "scrolled": true
   },
   "outputs": [
    {
     "name": "stdout",
     "output_type": "stream",
     "text": [
      "Rules:\n",
      "{0: ['C1_0-', 'C0_1+ & C3_0- & C5_0-', 'C0_1+', 'C5_0- & C1_0-', 'C3_0- & C5_0- & C1_0-', 'C5_0- & C1_0-'], 1: ['C0_1- & C1_2+ & C1_4+', 'C0_1- & C1_2+', 'C2_1- & C1_0+ & C1_4+', 'C2_1- & C1_0+'], 2: ['C1_2-', 'C1_2- & C3_2- & C5_2-', 'C5_2- & C2_1+', 'C2_1+ & C3_2- & C5_2-', 'C2_1+', 'C1_2- & C5_2-'], 3: ['C3_2+', 'C3_0+'], 4: ['C1_4-'], 5: ['C5_0+', 'C5_2+']}\n",
      "{0: ([(1, 0)], [(0, 1), (3, 0), (5, 0)], [(0, 1)], [(5, 0), (1, 0)], [(3, 0), (5, 0), (1, 0)], [(5, 0), (1, 0)]), 1: ([(0, 1), (1, 2), (1, 4)], [(0, 1), (1, 2)], [(2, 1), (1, 0), (1, 4)], [(2, 1), (1, 0)]), 2: ([(1, 2)], [(1, 2), (3, 2), (5, 2)], [(5, 2), (2, 1)], [(2, 1), (3, 2), (5, 2)], [(2, 1)], [(1, 2), (5, 2)]), 3: ([(3, 2)], [(3, 0)]), 4: ([(1, 4)],), 5: ([(5, 0)], [(5, 2)])}\n",
      "Tree:\n",
      "[(0, 2), [(1, 1), [[(3, 5)], (2, 0)], [(4, 4)]]]\n",
      "ULL parse: \n",
      "turtles eat the kids much\n",
      "0 turtles 1 eat\n",
      "1 eat 3 kids\n",
      "1 eat 4 much\n",
      "2 the 3 kids\n"
     ]
    },
    {
     "data": {
      "text/plain": [
       "'turtles eat the kids much\\n0 turtles 1 eat\\n1 eat 3 kids\\n1 eat 4 much\\n2 the 3 kids'"
      ]
     },
     "execution_count": 5,
     "metadata": {},
     "output_type": "execute_result"
    }
   ],
   "source": [
    "test_sentencer = GrammarSampler(gramfile)\n",
    "\n",
    "test_sentencer.GenerateParse()"
   ]
  },
  {
   "cell_type": "code",
   "execution_count": 3,
   "metadata": {},
   "outputs": [],
   "source": [
    "corpus = [test_sentencer.GenerateParse() for i in range(1, num_sentences)]"
   ]
  },
  {
   "cell_type": "code",
   "execution_count": 4,
   "metadata": {},
   "outputs": [
    {
     "data": {
      "text/plain": [
       "[]"
      ]
     },
     "execution_count": 4,
     "metadata": {},
     "output_type": "execute_result"
    }
   ],
   "source": [
    "a = [1]\n",
    "a[:-1]"
   ]
  },
  {
   "cell_type": "code",
   "execution_count": null,
   "metadata": {},
   "outputs": [],
   "source": []
  }
 ],
 "metadata": {
  "kernelspec": {
   "display_name": "Python 3",
   "language": "python",
   "name": "python3"
  },
  "language_info": {
   "codemirror_mode": {
    "name": "ipython",
    "version": 3
   },
   "file_extension": ".py",
   "mimetype": "text/x-python",
   "name": "python",
   "nbconvert_exporter": "python",
   "pygments_lexer": "ipython3",
   "version": "3.7.3"
  }
 },
 "nbformat": 4,
 "nbformat_minor": 2
}
