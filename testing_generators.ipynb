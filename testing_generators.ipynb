{
 "cells": [
  {
   "cell_type": "code",
   "execution_count": 1,
   "metadata": {},
   "outputs": [],
   "source": [
    "from sentence_generator import GrammarSampler\n",
    "\n",
    "from grammar_generator import main\n",
    "\n",
    "num_words = 20\n",
    "num_classes = 4\n",
    "num_class_connectors = 9\n",
    "connectors_limit = 2\n",
    "num_sentences = 10\n",
    "outfile=\"rand_grammar.txt\""
   ]
  },
  {
   "cell_type": "code",
   "execution_count": 2,
   "metadata": {},
   "outputs": [
    {
     "name": "stdout",
     "output_type": "stream",
     "text": [
      "[{0: {((1, 0),), ((0, 1), (3, 0), (5, 0)), ((0, 1),), ((5, 0), (1, 0)), ((3, 0), (5, 0), (1, 0)), ((5, 0), (0, 1))}, 1: {((0, 1), (1, 2), (1, 4)), ((0, 1), (1, 2)), ((2, 1), (1, 0), (1, 4)), ((2, 1), (1, 0))}, 2: {((1, 2),), ((1, 2), (3, 2), (5, 2)), ((5, 2), (2, 1)), ((2, 1), (3, 2), (5, 2)), ((2, 1),), ((1, 2), (5, 2))}, 3: {((3, 2),), ((3, 0),)}, 4: {((1, 4),)}, 5: {((5, 0),), ((5, 2),)}}, {0: ['kids'], 1: ['eat'], 2: ['turtles'], 3: ['red'], 4: ['much'], 5: ['the']}]\n"
     ]
    }
   ],
   "source": [
    "simple_grammar = [{0: {((0, 1),), ((1, 0),), ((5, 0), (0, 1)), ((5, 0), (1, 0)), ((3, 0), (5, 0), (1, 0)), ((0, 1), (3, 0), (5, 0))}, 1: {((0, 1), (1, 2)), ((2, 1), (1, 0)), ((0, 1), (1, 2), (1, 4)), ((2, 1), (1, 0), (1, 4))}, 2: {((2, 1),), ((1, 2),), ((5, 2), (2, 1)), ((1, 2), (5, 2)), ((1, 2), (3, 2), (5, 2)), ((2, 1), (3, 2), (5, 2))}, 3: {((3, 0),), ((3, 2),)}, 4: {((1, 4),)}, 5: {((5, 0),), ((5, 2),)}}, {0: ['kids'], 1: ['eat'], 2: ['turtles'], 3: ['red'], 4: ['much'], 5: ['the']}]\n",
    "print(simple_grammar)"
   ]
  },
  {
   "cell_type": "code",
   "execution_count": 3,
   "metadata": {},
   "outputs": [],
   "source": [
    "test_sentencer = GrammarSampler(simple_grammar)"
   ]
  },
  {
   "cell_type": "code",
   "execution_count": 4,
   "metadata": {},
   "outputs": [
    {
     "name": "stdout",
     "output_type": "stream",
     "text": [
      "Tree:\n",
      "[[(5, 5)], [(4, 3)], [[[(3, 5)], (2, 0)], (1, 1)], (0, 2)]\n",
      "ULL parse: \n",
      "the red the kids eat turtles\n",
      "5 turtles 0 the\n",
      "5 turtles 1 red\n",
      "5 turtles 4 eat\n",
      "4 eat 3 kids\n",
      "3 kids 2 the\n"
     ]
    },
    {
     "data": {
      "text/plain": [
       "'the red the kids eat turtles\\n5 turtles 0 the\\n5 turtles 1 red\\n5 turtles 4 eat\\n4 eat 3 kids\\n3 kids 2 the'"
      ]
     },
     "execution_count": 4,
     "metadata": {},
     "output_type": "execute_result"
    }
   ],
   "source": [
    "test_sentencer.GenerateParse()"
   ]
  },
  {
   "cell_type": "code",
   "execution_count": 5,
   "metadata": {},
   "outputs": [
    {
     "name": "stdout",
     "output_type": "stream",
     "text": [
      "Tree:\n",
      "[[[(2, 5)], (1, 0)], (0, 1), [(3, 2)], [(4, 4)]]\n",
      "ULL parse: \n",
      "the kids eat turtles much\n",
      "2 eat 1 kids\n",
      "2 eat 3 turtles\n",
      "2 eat 4 much\n",
      "1 kids 0 the\n",
      "Tree:\n",
      "[[[[(4, 5)], [(3, 3)], (2, 0)], (1, 1), [[(6, 5)], (5, 2)]], (0, 4)]\n",
      "ULL parse: \n",
      "the red kids eat the turtles much\n",
      "6 much 3 eat\n",
      "3 eat 2 kids\n",
      "3 eat 5 turtles\n",
      "2 kids 0 the\n",
      "2 kids 1 red\n",
      "5 turtles 4 the\n",
      "Tree:\n",
      "[(0, 5), [[[[(5, 5)], [(4, 3)], (3, 2)], (2, 1)], (1, 0)]]\n",
      "ULL parse: \n",
      "the the red turtles eat kids\n",
      "0 the 5 kids\n",
      "5 kids 4 eat\n",
      "4 eat 3 turtles\n",
      "3 turtles 1 the\n",
      "3 turtles 2 red\n",
      "Tree:\n",
      "[[(7, 5)], [(6, 3)], [[[(4, 5)], [(3, 3)], (2, 0)], (1, 1), [(5, 4)]], (0, 2)]\n",
      "ULL parse: \n",
      "the red the red kids eat much turtles\n",
      "7 turtles 0 the\n",
      "7 turtles 1 red\n",
      "7 turtles 5 eat\n",
      "5 eat 4 kids\n",
      "5 eat 6 much\n",
      "4 kids 2 the\n",
      "4 kids 3 red\n",
      "Tree:\n",
      "[(0, 5), [(1, 2), [(2, 1), [(3, 0)], [(4, 4)]]]]\n",
      "ULL parse: \n",
      "the turtles eat kids much\n",
      "0 the 1 turtles\n",
      "1 turtles 2 eat\n",
      "2 eat 3 kids\n",
      "2 eat 4 much\n",
      "Tree:\n",
      "[[[[(4, 5)], [(3, 3)], (2, 0)], (1, 1), [[(7, 5)], [(6, 3)], (5, 2)]], (0, 4)]\n",
      "ULL parse: \n",
      "the red kids eat the red turtles much\n",
      "7 much 3 eat\n",
      "3 eat 2 kids\n",
      "3 eat 6 turtles\n",
      "2 kids 0 the\n",
      "2 kids 1 red\n",
      "6 turtles 4 the\n",
      "6 turtles 5 red\n",
      "Tree:\n",
      "[[[[(3, 5)], (2, 2)], (1, 1), [[(5, 5)], (4, 0)]], (0, 4)]\n",
      "ULL parse: \n",
      "the turtles eat the kids much\n",
      "5 much 2 eat\n",
      "2 eat 1 turtles\n",
      "2 eat 4 kids\n",
      "1 turtles 0 the\n",
      "4 kids 3 the\n",
      "Tree:\n",
      "[[[[(4, 5)], [(3, 3)], (2, 2)], (1, 1)], (0, 0)]\n",
      "ULL parse: \n",
      "the red turtles eat kids\n",
      "4 kids 3 eat\n",
      "3 eat 2 turtles\n",
      "2 turtles 0 the\n",
      "2 turtles 1 red\n",
      "Tree:\n",
      "[[[(2, 5)], (1, 0)], (0, 1), [[(4, 5)], (3, 2)], [(5, 4)]]\n",
      "ULL parse: \n",
      "the kids eat the turtles much\n",
      "2 eat 1 kids\n",
      "2 eat 4 turtles\n",
      "2 eat 5 much\n",
      "1 kids 0 the\n",
      "4 turtles 3 the\n"
     ]
    }
   ],
   "source": [
    "corpus = [test_sentencer.GenerateParse() for i in range(1, num_sentences)]"
   ]
  },
  {
   "cell_type": "code",
   "execution_count": 10,
   "metadata": {},
   "outputs": [
    {
     "name": "stdout",
     "output_type": "stream",
     "text": [
      "the kids eat turtles much\n",
      "2 eat 1 kids\n",
      "2 eat 3 turtles\n",
      "2 eat 4 much\n",
      "1 kids 0 the\n",
      "\n",
      "the red kids eat the turtles much\n",
      "6 much 3 eat\n",
      "3 eat 2 kids\n",
      "3 eat 5 turtles\n",
      "2 kids 0 the\n",
      "2 kids 1 red\n",
      "5 turtles 4 the\n",
      "\n",
      "the the red turtles eat kids\n",
      "0 the 5 kids\n",
      "5 kids 4 eat\n",
      "4 eat 3 turtles\n",
      "3 turtles 1 the\n",
      "3 turtles 2 red\n",
      "\n",
      "the red the red kids eat much turtles\n",
      "7 turtles 0 the\n",
      "7 turtles 1 red\n",
      "7 turtles 5 eat\n",
      "5 eat 4 kids\n",
      "5 eat 6 much\n",
      "4 kids 2 the\n",
      "4 kids 3 red\n",
      "\n",
      "the turtles eat kids much\n",
      "0 the 1 turtles\n",
      "1 turtles 2 eat\n",
      "2 eat 3 kids\n",
      "2 eat 4 much\n",
      "\n",
      "the red kids eat the red turtles much\n",
      "7 much 3 eat\n",
      "3 eat 2 kids\n",
      "3 eat 6 turtles\n",
      "2 kids 0 the\n",
      "2 kids 1 red\n",
      "6 turtles 4 the\n",
      "6 turtles 5 red\n",
      "\n",
      "the turtles eat the kids much\n",
      "5 much 2 eat\n",
      "2 eat 1 turtles\n",
      "2 eat 4 kids\n",
      "1 turtles 0 the\n",
      "4 kids 3 the\n",
      "\n",
      "the red turtles eat kids\n",
      "4 kids 3 eat\n",
      "3 eat 2 turtles\n",
      "2 turtles 0 the\n",
      "2 turtles 1 red\n",
      "\n",
      "the kids eat the turtles much\n",
      "2 eat 1 kids\n",
      "2 eat 4 turtles\n",
      "2 eat 5 much\n",
      "1 kids 0 the\n",
      "4 turtles 3 the\n",
      "\n"
     ]
    }
   ],
   "source": [
    "for parse in corpus:\n",
    "    print(parse + \"\\n\")"
   ]
  },
  {
   "cell_type": "code",
   "execution_count": null,
   "metadata": {},
   "outputs": [],
   "source": []
  }
 ],
 "metadata": {
  "kernelspec": {
   "display_name": "Python 3",
   "language": "python",
   "name": "python3"
  },
  "language_info": {
   "codemirror_mode": {
    "name": "ipython",
    "version": 3
   },
   "file_extension": ".py",
   "mimetype": "text/x-python",
   "name": "python",
   "nbconvert_exporter": "python",
   "pygments_lexer": "ipython3",
   "version": "3.7.3"
  }
 },
 "nbformat": 4,
 "nbformat_minor": 2
}
