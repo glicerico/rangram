{
 "cells": [
  {
   "cell_type": "code",
   "execution_count": 1,
   "metadata": {},
   "outputs": [],
   "source": [
    "from sentence_generator import GrammarSampler\n",
    "\n",
    "from grammar_generator import main\n",
    "\n",
    "num_words = 20\n",
    "num_classes = 4\n",
    "num_class_connectors = 9\n",
    "connectors_limit = 2\n",
    "num_sentences = 10\n",
    "outfile=\"rand_grammar.txt\""
   ]
  },
  {
   "cell_type": "code",
   "execution_count": 2,
   "metadata": {},
   "outputs": [
    {
     "name": "stdout",
     "output_type": "stream",
     "text": [
      "[{0: {((1, 0),), ((0, 1), (3, 0), (5, 0)), ((0, 1),), ((5, 0), (1, 0)), ((3, 0), (5, 0), (1, 0)), ((5, 0), (0, 1))}, 1: {((0, 1), (1, 2), (1, 4)), ((0, 1), (1, 2)), ((2, 1), (1, 0), (1, 4)), ((2, 1), (1, 0))}, 2: {((1, 2),), ((1, 2), (3, 2), (5, 2)), ((5, 2), (2, 1)), ((2, 1), (3, 2), (5, 2)), ((2, 1),), ((1, 2), (5, 2))}, 3: {((3, 2),), ((3, 0),)}, 4: {((1, 4),)}, 5: {((5, 0),), ((5, 2),)}}, {0: ['kids'], 1: ['eat'], 2: ['turtles'], 3: ['red'], 4: ['much'], 5: ['the']}]\n"
     ]
    }
   ],
   "source": [
    "simple_grammar = [{0: {((0, 1),), ((1, 0),), ((5, 0), (0, 1)), ((5, 0), (1, 0)), ((3, 0), (5, 0), (1, 0)), ((0, 1), (3, 0), (5, 0))}, 1: {((0, 1), (1, 2)), ((2, 1), (1, 0)), ((0, 1), (1, 2), (1, 4)), ((2, 1), (1, 0), (1, 4))}, 2: {((2, 1),), ((1, 2),), ((5, 2), (2, 1)), ((1, 2), (5, 2)), ((1, 2), (3, 2), (5, 2)), ((2, 1), (3, 2), (5, 2))}, 3: {((3, 0),), ((3, 2),)}, 4: {((1, 4),)}, 5: {((5, 0),), ((5, 2),)}}, {0: ['kids'], 1: ['eat'], 2: ['turtles'], 3: ['red'], 4: ['much'], 5: ['the']}]\n",
    "print(simple_grammar)"
   ]
  },
  {
   "cell_type": "code",
   "execution_count": 3,
   "metadata": {},
   "outputs": [],
   "source": [
    "test_sentencer = GrammarSampler(simple_grammar)"
   ]
  },
  {
   "cell_type": "code",
   "execution_count": 4,
   "metadata": {},
   "outputs": [
    {
     "name": "stdout",
     "output_type": "stream",
     "text": [
      "Tree:\n",
      "[[[[(5, 5)], [(4, 3)], (3, 2)], (2, 1), [(6, 4)]], [(1, 5)], (0, 0)]\n",
      "ULL parse: \n",
      "the red turtles eat much the kids\n",
      "0 the 2 turtles\n",
      "1 red 2 turtles\n",
      "2 turtles 3 eat\n",
      "3 eat 4 much\n",
      "3 eat 6 kids\n",
      "5 the 6 kids\n"
     ]
    },
    {
     "data": {
      "text/plain": [
       "'the red turtles eat much the kids\\n0 the 2 turtles\\n1 red 2 turtles\\n2 turtles 3 eat\\n3 eat 4 much\\n3 eat 6 kids\\n5 the 6 kids'"
      ]
     },
     "execution_count": 4,
     "metadata": {},
     "output_type": "execute_result"
    }
   ],
   "source": [
    "test_sentencer.GenerateParse()"
   ]
  },
  {
   "cell_type": "code",
   "execution_count": 5,
   "metadata": {},
   "outputs": [
    {
     "name": "stdout",
     "output_type": "stream",
     "text": [
      "Tree:\n",
      "[[(1, 0)], (0, 1), [[(4, 5)], [(3, 3)], (2, 2)], [(5, 4)]]\n",
      "ULL parse: \n",
      "kids eat the red turtles much\n",
      "0 kids 1 eat\n",
      "1 eat 4 turtles\n",
      "1 eat 5 much\n",
      "2 the 4 turtles\n",
      "3 red 4 turtles\n",
      "Tree:\n",
      "[(0, 5), [(1, 2), [(2, 1), [(3, 0)], [(4, 4)]]]]\n",
      "ULL parse: \n",
      "the turtles eat kids much\n",
      "0 the 1 turtles\n",
      "1 turtles 2 eat\n",
      "2 eat 3 kids\n",
      "2 eat 4 much\n",
      "Tree:\n",
      "[(0, 5), [[(7, 3)], [[[(5, 5)], [(4, 3)], (3, 0)], (2, 1), [(6, 4)]], (1, 2)]]\n",
      "ULL parse: \n",
      "the red the red kids eat much turtles\n",
      "0 the 7 turtles\n",
      "1 red 7 turtles\n",
      "2 the 4 kids\n",
      "3 red 4 kids\n",
      "4 kids 5 eat\n",
      "5 eat 6 much\n",
      "5 eat 7 turtles\n",
      "Tree:\n",
      "[[(5, 5)], [(4, 3)], (0, 2), [(1, 1), [[(3, 5)], (2, 0)]]]\n",
      "ULL parse: \n",
      "the red turtles eat the kids\n",
      "0 the 2 turtles\n",
      "1 red 2 turtles\n",
      "2 turtles 3 eat\n",
      "3 eat 5 kids\n",
      "4 the 5 kids\n",
      "Tree:\n",
      "[[(4, 5)], [(3, 3)], (0, 0), [(1, 1), [(2, 2)]]]\n",
      "ULL parse: \n",
      "the red kids eat turtles\n",
      "0 the 2 kids\n",
      "1 red 2 kids\n",
      "2 kids 3 eat\n",
      "3 eat 4 turtles\n",
      "Tree:\n",
      "[[[[(3, 5)], (2, 2)], (1, 1), [(4, 0)]], (0, 4)]\n",
      "ULL parse: \n",
      "the turtles eat kids much\n",
      "0 the 1 turtles\n",
      "1 turtles 2 eat\n",
      "2 eat 3 kids\n",
      "2 eat 4 much\n",
      "Tree:\n",
      "[(0, 3), [[(4, 5)], (1, 2), [(2, 1), [(3, 0)]]]]\n",
      "ULL parse: \n",
      "red the turtles eat kids\n",
      "0 red 2 turtles\n",
      "1 the 2 turtles\n",
      "2 turtles 3 eat\n",
      "3 eat 4 kids\n",
      "Tree:\n",
      "[(0, 5), [(1, 0), [(2, 1), [[(4, 5)], (3, 2)], [(5, 4)]]]]\n",
      "ULL parse: \n",
      "the kids eat the turtles much\n",
      "0 the 1 kids\n",
      "1 kids 2 eat\n",
      "2 eat 4 turtles\n",
      "2 eat 5 much\n",
      "3 the 4 turtles\n",
      "Tree:\n",
      "[(0, 5), [[[[(5, 5)], [(4, 3)], (3, 0)], (2, 1), [(6, 4)]], (1, 2)]]\n",
      "ULL parse: \n",
      "the the red kids eat much turtles\n",
      "0 the 6 turtles\n",
      "1 the 3 kids\n",
      "2 red 3 kids\n",
      "3 kids 4 eat\n",
      "4 eat 5 much\n",
      "4 eat 6 turtles\n"
     ]
    }
   ],
   "source": [
    "corpus = [test_sentencer.GenerateParse() for i in range(1, num_sentences)]"
   ]
  },
  {
   "cell_type": "code",
   "execution_count": 6,
   "metadata": {},
   "outputs": [
    {
     "name": "stdout",
     "output_type": "stream",
     "text": [
      "kids eat the red turtles much\n",
      "0 kids 1 eat\n",
      "1 eat 4 turtles\n",
      "1 eat 5 much\n",
      "2 the 4 turtles\n",
      "3 red 4 turtles\n",
      "\n",
      "the turtles eat kids much\n",
      "0 the 1 turtles\n",
      "1 turtles 2 eat\n",
      "2 eat 3 kids\n",
      "2 eat 4 much\n",
      "\n",
      "the red the red kids eat much turtles\n",
      "0 the 7 turtles\n",
      "1 red 7 turtles\n",
      "2 the 4 kids\n",
      "3 red 4 kids\n",
      "4 kids 5 eat\n",
      "5 eat 6 much\n",
      "5 eat 7 turtles\n",
      "\n",
      "the red turtles eat the kids\n",
      "0 the 2 turtles\n",
      "1 red 2 turtles\n",
      "2 turtles 3 eat\n",
      "3 eat 5 kids\n",
      "4 the 5 kids\n",
      "\n",
      "the red kids eat turtles\n",
      "0 the 2 kids\n",
      "1 red 2 kids\n",
      "2 kids 3 eat\n",
      "3 eat 4 turtles\n",
      "\n",
      "the turtles eat kids much\n",
      "0 the 1 turtles\n",
      "1 turtles 2 eat\n",
      "2 eat 3 kids\n",
      "2 eat 4 much\n",
      "\n",
      "red the turtles eat kids\n",
      "0 red 2 turtles\n",
      "1 the 2 turtles\n",
      "2 turtles 3 eat\n",
      "3 eat 4 kids\n",
      "\n",
      "the kids eat the turtles much\n",
      "0 the 1 kids\n",
      "1 kids 2 eat\n",
      "2 eat 4 turtles\n",
      "2 eat 5 much\n",
      "3 the 4 turtles\n",
      "\n",
      "the the red kids eat much turtles\n",
      "0 the 6 turtles\n",
      "1 the 3 kids\n",
      "2 red 3 kids\n",
      "3 kids 4 eat\n",
      "4 eat 5 much\n",
      "4 eat 6 turtles\n",
      "\n"
     ]
    }
   ],
   "source": [
    "for parse in corpus:\n",
    "    print(parse + \"\\n\")"
   ]
  },
  {
   "cell_type": "code",
   "execution_count": null,
   "metadata": {},
   "outputs": [],
   "source": []
  }
 ],
 "metadata": {
  "kernelspec": {
   "display_name": "Python 3",
   "language": "python",
   "name": "python3"
  },
  "language_info": {
   "codemirror_mode": {
    "name": "ipython",
    "version": 3
   },
   "file_extension": ".py",
   "mimetype": "text/x-python",
   "name": "python",
   "nbconvert_exporter": "python",
   "pygments_lexer": "ipython3",
   "version": "3.7.3"
  }
 },
 "nbformat": 4,
 "nbformat_minor": 2
}
