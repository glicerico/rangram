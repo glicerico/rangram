{
 "cells": [
  {
   "cell_type": "code",
   "execution_count": 1,
   "metadata": {},
   "outputs": [],
   "source": [
    "from sentence_generator import GrammarSampler\n",
    "\n",
    "from grammar_generator import main\n",
    "\n",
    "num_words = 20\n",
    "num_classes = 4\n",
    "num_class_connectors = 9\n",
    "connectors_limit = 2\n",
    "num_sentences = 1\n",
    "gramfile=\"simple_grammar0.txt\""
   ]
  },
  {
   "cell_type": "code",
   "execution_count": 2,
   "metadata": {},
   "outputs": [],
   "source": [
    "test_sentencer = GrammarSampler(gramfile)"
   ]
  },
  {
   "cell_type": "code",
   "execution_count": 3,
   "metadata": {},
   "outputs": [
    {
     "name": "stdout",
     "output_type": "stream",
     "text": [
      "Tree:\n",
      "[(0, 1), [(1, 3)]]\n",
      "ULL parse: \n",
      "W10 W18\n",
      "0 W10 1 W18\n"
     ]
    },
    {
     "data": {
      "text/plain": [
       "'W10 W18\\n0 W10 1 W18'"
      ]
     },
     "execution_count": 3,
     "metadata": {},
     "output_type": "execute_result"
    }
   ],
   "source": [
    "test_sentencer.GenerateParse()"
   ]
  },
  {
   "cell_type": "code",
   "execution_count": 4,
   "metadata": {},
   "outputs": [],
   "source": [
    "corpus = [test_sentencer.GenerateParse() for i in range(1, num_sentences)]"
   ]
  },
  {
   "cell_type": "code",
   "execution_count": null,
   "metadata": {},
   "outputs": [],
   "source": []
  }
 ],
 "metadata": {
  "kernelspec": {
   "display_name": "Python 3",
   "language": "python",
   "name": "python3"
  },
  "language_info": {
   "codemirror_mode": {
    "name": "ipython",
    "version": 3
   },
   "file_extension": ".py",
   "mimetype": "text/x-python",
   "name": "python",
   "nbconvert_exporter": "python",
   "pygments_lexer": "ipython3",
   "version": "3.7.3"
  }
 },
 "nbformat": 4,
 "nbformat_minor": 2
}
