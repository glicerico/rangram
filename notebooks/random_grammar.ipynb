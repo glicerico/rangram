{
 "cells": [
  {
   "cell_type": "markdown",
   "metadata": {},
   "source": [
    "# Random grammar generation\n",
    "\n",
    "# Creates a scale-free random grammar with specified parameters"
   ]
  },
  {
   "cell_type": "markdown",
   "metadata": {},
   "source": [
    "We start by obtaining the parameters of the grammar"
   ]
  },
  {
   "cell_type": "code",
   "execution_count": 1,
   "metadata": {},
   "outputs": [
    {
     "data": {
      "application/vnd.jupyter.widget-view+json": {
       "model_id": "3eb1e7231eab40e89ca7f32027d196ad",
       "version_major": 2,
       "version_minor": 0
      },
      "text/plain": [
       "interactive(children=(IntSlider(value=24, description='num_words', max=34, min=15), IntSlider(value=4, descrip…"
      ]
     },
     "metadata": {},
     "output_type": "display_data"
    }
   ],
   "source": [
    "# Sliders for grammar parameters\n",
    "from ipywidgets import interact, interactive, fixed, interact_manual\n",
    "\n",
    "def GetParams(num_words, num_classes, num_class_connectors, connectors_limit):\n",
    "    return (num_words, num_classes, num_class_connectors, connectors_limit)\n",
    "grammar_params = interactive(GetParams, \n",
    "                             num_words = (15, 34), # vocabulary size\n",
    "                             num_classes = (3, 5), # number of grammar classes\n",
    "                             num_class_connectors = (5, 11), # connectors between grammar classes (directed)\n",
    "                             connectors_limit = (1, 3)) # max connectors a word can have\n",
    "display(grammar_params)"
   ]
  },
  {
   "cell_type": "code",
   "execution_count": 42,
   "metadata": {},
   "outputs": [],
   "source": [
    "# Set Grammar parameters\n",
    "num_words = grammar_params.result[0]\n",
    "num_classes = grammar_params.result[1]\n",
    "num_class_connectors = grammar_params.result[2]\n",
    "connectors_limit = grammar_params.result[3]"
   ]
  },
  {
   "cell_type": "code",
   "execution_count": 43,
   "metadata": {},
   "outputs": [
    {
     "name": "stdout",
     "output_type": "stream",
     "text": [
      "[12 18 22 25]\n"
     ]
    }
   ],
   "source": [
    "# Populate grammar classes following a Zipf distribution\n",
    "from fractions import Fraction\n",
    "import numpy as np\n",
    "\n",
    "harmonic_number = sum(Fraction(1, d) for d in range(1, num_classes + 1))\n",
    "\n",
    "zipf_fracs = [1 / x / harmonic_number for x in range(1, num_classes + 1)]\n",
    "\n",
    "words_per_class = np.array(np.round(np.array(zipf_fracs) * num_words), dtype = \"int\")\n",
    "cumul_words = np.cumsum(words_per_class) # boundaries for class words\n",
    "print(cumul_words)"
   ]
  },
  {
   "cell_type": "code",
   "execution_count": 44,
   "metadata": {},
   "outputs": [
    {
     "data": {
      "text/html": [
       "        <script type=\"text/javascript\">\n",
       "        window.PlotlyConfig = {MathJaxConfig: 'local'};\n",
       "        if (window.MathJax) {MathJax.Hub.Config({SVG: {font: \"STIX-Web\"}});}\n",
       "        if (typeof require !== 'undefined') {\n",
       "        require.undef(\"plotly\");\n",
       "        requirejs.config({\n",
       "            paths: {\n",
       "                'plotly': ['https://cdn.plot.ly/plotly-latest.min']\n",
       "            }\n",
       "        });\n",
       "        require(['plotly'], function(Plotly) {\n",
       "            window._Plotly = Plotly;\n",
       "        });\n",
       "        }\n",
       "        </script>\n",
       "        "
      ]
     },
     "metadata": {},
     "output_type": "display_data"
    },
    {
     "data": {
      "application/vnd.plotly.v1+json": {
       "config": {
        "linkText": "Export to plot.ly",
        "plotlyServerURL": "https://plot.ly",
        "showLink": false
       },
       "data": [
        {
         "type": "scatter",
         "x": [
          1,
          2,
          3,
          4
         ],
         "y": [
          0.5,
          0.25,
          0.16666666666666666,
          0.125
         ]
        },
        {
         "type": "scatter",
         "x": [
          1,
          2,
          3,
          4
         ],
         "y": [
          0.48,
          0.24,
          0.15999999999999998,
          0.12
         ]
        }
       ],
       "layout": {
        "template": {
         "data": {
          "bar": [
           {
            "error_x": {
             "color": "#2a3f5f"
            },
            "error_y": {
             "color": "#2a3f5f"
            },
            "marker": {
             "line": {
              "color": "#E5ECF6",
              "width": 0.5
             }
            },
            "type": "bar"
           }
          ],
          "barpolar": [
           {
            "marker": {
             "line": {
              "color": "#E5ECF6",
              "width": 0.5
             }
            },
            "type": "barpolar"
           }
          ],
          "carpet": [
           {
            "aaxis": {
             "endlinecolor": "#2a3f5f",
             "gridcolor": "white",
             "linecolor": "white",
             "minorgridcolor": "white",
             "startlinecolor": "#2a3f5f"
            },
            "baxis": {
             "endlinecolor": "#2a3f5f",
             "gridcolor": "white",
             "linecolor": "white",
             "minorgridcolor": "white",
             "startlinecolor": "#2a3f5f"
            },
            "type": "carpet"
           }
          ],
          "choropleth": [
           {
            "colorbar": {
             "outlinewidth": 0,
             "ticks": ""
            },
            "type": "choropleth"
           }
          ],
          "contour": [
           {
            "colorbar": {
             "outlinewidth": 0,
             "ticks": ""
            },
            "colorscale": [
             [
              0,
              "#0d0887"
             ],
             [
              0.1111111111111111,
              "#46039f"
             ],
             [
              0.2222222222222222,
              "#7201a8"
             ],
             [
              0.3333333333333333,
              "#9c179e"
             ],
             [
              0.4444444444444444,
              "#bd3786"
             ],
             [
              0.5555555555555556,
              "#d8576b"
             ],
             [
              0.6666666666666666,
              "#ed7953"
             ],
             [
              0.7777777777777778,
              "#fb9f3a"
             ],
             [
              0.8888888888888888,
              "#fdca26"
             ],
             [
              1,
              "#f0f921"
             ]
            ],
            "type": "contour"
           }
          ],
          "contourcarpet": [
           {
            "colorbar": {
             "outlinewidth": 0,
             "ticks": ""
            },
            "type": "contourcarpet"
           }
          ],
          "heatmap": [
           {
            "colorbar": {
             "outlinewidth": 0,
             "ticks": ""
            },
            "colorscale": [
             [
              0,
              "#0d0887"
             ],
             [
              0.1111111111111111,
              "#46039f"
             ],
             [
              0.2222222222222222,
              "#7201a8"
             ],
             [
              0.3333333333333333,
              "#9c179e"
             ],
             [
              0.4444444444444444,
              "#bd3786"
             ],
             [
              0.5555555555555556,
              "#d8576b"
             ],
             [
              0.6666666666666666,
              "#ed7953"
             ],
             [
              0.7777777777777778,
              "#fb9f3a"
             ],
             [
              0.8888888888888888,
              "#fdca26"
             ],
             [
              1,
              "#f0f921"
             ]
            ],
            "type": "heatmap"
           }
          ],
          "heatmapgl": [
           {
            "colorbar": {
             "outlinewidth": 0,
             "ticks": ""
            },
            "colorscale": [
             [
              0,
              "#0d0887"
             ],
             [
              0.1111111111111111,
              "#46039f"
             ],
             [
              0.2222222222222222,
              "#7201a8"
             ],
             [
              0.3333333333333333,
              "#9c179e"
             ],
             [
              0.4444444444444444,
              "#bd3786"
             ],
             [
              0.5555555555555556,
              "#d8576b"
             ],
             [
              0.6666666666666666,
              "#ed7953"
             ],
             [
              0.7777777777777778,
              "#fb9f3a"
             ],
             [
              0.8888888888888888,
              "#fdca26"
             ],
             [
              1,
              "#f0f921"
             ]
            ],
            "type": "heatmapgl"
           }
          ],
          "histogram": [
           {
            "marker": {
             "colorbar": {
              "outlinewidth": 0,
              "ticks": ""
             }
            },
            "type": "histogram"
           }
          ],
          "histogram2d": [
           {
            "colorbar": {
             "outlinewidth": 0,
             "ticks": ""
            },
            "colorscale": [
             [
              0,
              "#0d0887"
             ],
             [
              0.1111111111111111,
              "#46039f"
             ],
             [
              0.2222222222222222,
              "#7201a8"
             ],
             [
              0.3333333333333333,
              "#9c179e"
             ],
             [
              0.4444444444444444,
              "#bd3786"
             ],
             [
              0.5555555555555556,
              "#d8576b"
             ],
             [
              0.6666666666666666,
              "#ed7953"
             ],
             [
              0.7777777777777778,
              "#fb9f3a"
             ],
             [
              0.8888888888888888,
              "#fdca26"
             ],
             [
              1,
              "#f0f921"
             ]
            ],
            "type": "histogram2d"
           }
          ],
          "histogram2dcontour": [
           {
            "colorbar": {
             "outlinewidth": 0,
             "ticks": ""
            },
            "colorscale": [
             [
              0,
              "#0d0887"
             ],
             [
              0.1111111111111111,
              "#46039f"
             ],
             [
              0.2222222222222222,
              "#7201a8"
             ],
             [
              0.3333333333333333,
              "#9c179e"
             ],
             [
              0.4444444444444444,
              "#bd3786"
             ],
             [
              0.5555555555555556,
              "#d8576b"
             ],
             [
              0.6666666666666666,
              "#ed7953"
             ],
             [
              0.7777777777777778,
              "#fb9f3a"
             ],
             [
              0.8888888888888888,
              "#fdca26"
             ],
             [
              1,
              "#f0f921"
             ]
            ],
            "type": "histogram2dcontour"
           }
          ],
          "mesh3d": [
           {
            "colorbar": {
             "outlinewidth": 0,
             "ticks": ""
            },
            "type": "mesh3d"
           }
          ],
          "parcoords": [
           {
            "line": {
             "colorbar": {
              "outlinewidth": 0,
              "ticks": ""
             }
            },
            "type": "parcoords"
           }
          ],
          "scatter": [
           {
            "marker": {
             "colorbar": {
              "outlinewidth": 0,
              "ticks": ""
             }
            },
            "type": "scatter"
           }
          ],
          "scatter3d": [
           {
            "line": {
             "colorbar": {
              "outlinewidth": 0,
              "ticks": ""
             }
            },
            "marker": {
             "colorbar": {
              "outlinewidth": 0,
              "ticks": ""
             }
            },
            "type": "scatter3d"
           }
          ],
          "scattercarpet": [
           {
            "marker": {
             "colorbar": {
              "outlinewidth": 0,
              "ticks": ""
             }
            },
            "type": "scattercarpet"
           }
          ],
          "scattergeo": [
           {
            "marker": {
             "colorbar": {
              "outlinewidth": 0,
              "ticks": ""
             }
            },
            "type": "scattergeo"
           }
          ],
          "scattergl": [
           {
            "marker": {
             "colorbar": {
              "outlinewidth": 0,
              "ticks": ""
             }
            },
            "type": "scattergl"
           }
          ],
          "scattermapbox": [
           {
            "marker": {
             "colorbar": {
              "outlinewidth": 0,
              "ticks": ""
             }
            },
            "type": "scattermapbox"
           }
          ],
          "scatterpolar": [
           {
            "marker": {
             "colorbar": {
              "outlinewidth": 0,
              "ticks": ""
             }
            },
            "type": "scatterpolar"
           }
          ],
          "scatterpolargl": [
           {
            "marker": {
             "colorbar": {
              "outlinewidth": 0,
              "ticks": ""
             }
            },
            "type": "scatterpolargl"
           }
          ],
          "scatterternary": [
           {
            "marker": {
             "colorbar": {
              "outlinewidth": 0,
              "ticks": ""
             }
            },
            "type": "scatterternary"
           }
          ],
          "surface": [
           {
            "colorbar": {
             "outlinewidth": 0,
             "ticks": ""
            },
            "colorscale": [
             [
              0,
              "#0d0887"
             ],
             [
              0.1111111111111111,
              "#46039f"
             ],
             [
              0.2222222222222222,
              "#7201a8"
             ],
             [
              0.3333333333333333,
              "#9c179e"
             ],
             [
              0.4444444444444444,
              "#bd3786"
             ],
             [
              0.5555555555555556,
              "#d8576b"
             ],
             [
              0.6666666666666666,
              "#ed7953"
             ],
             [
              0.7777777777777778,
              "#fb9f3a"
             ],
             [
              0.8888888888888888,
              "#fdca26"
             ],
             [
              1,
              "#f0f921"
             ]
            ],
            "type": "surface"
           }
          ],
          "table": [
           {
            "cells": {
             "fill": {
              "color": "#EBF0F8"
             },
             "line": {
              "color": "white"
             }
            },
            "header": {
             "fill": {
              "color": "#C8D4E3"
             },
             "line": {
              "color": "white"
             }
            },
            "type": "table"
           }
          ]
         },
         "layout": {
          "annotationdefaults": {
           "arrowcolor": "#2a3f5f",
           "arrowhead": 0,
           "arrowwidth": 1
          },
          "colorscale": {
           "diverging": [
            [
             0,
             "#8e0152"
            ],
            [
             0.1,
             "#c51b7d"
            ],
            [
             0.2,
             "#de77ae"
            ],
            [
             0.3,
             "#f1b6da"
            ],
            [
             0.4,
             "#fde0ef"
            ],
            [
             0.5,
             "#f7f7f7"
            ],
            [
             0.6,
             "#e6f5d0"
            ],
            [
             0.7,
             "#b8e186"
            ],
            [
             0.8,
             "#7fbc41"
            ],
            [
             0.9,
             "#4d9221"
            ],
            [
             1,
             "#276419"
            ]
           ],
           "sequential": [
            [
             0,
             "#0d0887"
            ],
            [
             0.1111111111111111,
             "#46039f"
            ],
            [
             0.2222222222222222,
             "#7201a8"
            ],
            [
             0.3333333333333333,
             "#9c179e"
            ],
            [
             0.4444444444444444,
             "#bd3786"
            ],
            [
             0.5555555555555556,
             "#d8576b"
            ],
            [
             0.6666666666666666,
             "#ed7953"
            ],
            [
             0.7777777777777778,
             "#fb9f3a"
            ],
            [
             0.8888888888888888,
             "#fdca26"
            ],
            [
             1,
             "#f0f921"
            ]
           ],
           "sequentialminus": [
            [
             0,
             "#0d0887"
            ],
            [
             0.1111111111111111,
             "#46039f"
            ],
            [
             0.2222222222222222,
             "#7201a8"
            ],
            [
             0.3333333333333333,
             "#9c179e"
            ],
            [
             0.4444444444444444,
             "#bd3786"
            ],
            [
             0.5555555555555556,
             "#d8576b"
            ],
            [
             0.6666666666666666,
             "#ed7953"
            ],
            [
             0.7777777777777778,
             "#fb9f3a"
            ],
            [
             0.8888888888888888,
             "#fdca26"
            ],
            [
             1,
             "#f0f921"
            ]
           ]
          },
          "colorway": [
           "#636efa",
           "#EF553B",
           "#00cc96",
           "#ab63fa",
           "#FFA15A",
           "#19d3f3",
           "#FF6692",
           "#B6E880",
           "#FF97FF",
           "#FECB52"
          ],
          "font": {
           "color": "#2a3f5f"
          },
          "geo": {
           "bgcolor": "white",
           "lakecolor": "white",
           "landcolor": "#E5ECF6",
           "showlakes": true,
           "showland": true,
           "subunitcolor": "white"
          },
          "hoverlabel": {
           "align": "left"
          },
          "hovermode": "closest",
          "mapbox": {
           "style": "light"
          },
          "paper_bgcolor": "white",
          "plot_bgcolor": "#E5ECF6",
          "polar": {
           "angularaxis": {
            "gridcolor": "white",
            "linecolor": "white",
            "ticks": ""
           },
           "bgcolor": "#E5ECF6",
           "radialaxis": {
            "gridcolor": "white",
            "linecolor": "white",
            "ticks": ""
           }
          },
          "scene": {
           "xaxis": {
            "backgroundcolor": "#E5ECF6",
            "gridcolor": "white",
            "gridwidth": 2,
            "linecolor": "white",
            "showbackground": true,
            "ticks": "",
            "zerolinecolor": "white"
           },
           "yaxis": {
            "backgroundcolor": "#E5ECF6",
            "gridcolor": "white",
            "gridwidth": 2,
            "linecolor": "white",
            "showbackground": true,
            "ticks": "",
            "zerolinecolor": "white"
           },
           "zaxis": {
            "backgroundcolor": "#E5ECF6",
            "gridcolor": "white",
            "gridwidth": 2,
            "linecolor": "white",
            "showbackground": true,
            "ticks": "",
            "zerolinecolor": "white"
           }
          },
          "shapedefaults": {
           "line": {
            "color": "#2a3f5f"
           }
          },
          "ternary": {
           "aaxis": {
            "gridcolor": "white",
            "linecolor": "white",
            "ticks": ""
           },
           "baxis": {
            "gridcolor": "white",
            "linecolor": "white",
            "ticks": ""
           },
           "bgcolor": "#E5ECF6",
           "caxis": {
            "gridcolor": "white",
            "linecolor": "white",
            "ticks": ""
           }
          },
          "title": {
           "x": 0.05
          },
          "xaxis": {
           "automargin": true,
           "gridcolor": "white",
           "linecolor": "white",
           "ticks": "",
           "zerolinecolor": "white",
           "zerolinewidth": 2
          },
          "yaxis": {
           "automargin": true,
           "gridcolor": "white",
           "linecolor": "white",
           "ticks": "",
           "zerolinecolor": "white",
           "zerolinewidth": 2
          }
         }
        }
       }
      },
      "text/html": [
       "<div>\n",
       "        \n",
       "        \n",
       "            <div id=\"d31e79ff-08eb-463b-81f1-525c65a1cfc2\" class=\"plotly-graph-div\" style=\"height:525px; width:100%;\"></div>\n",
       "            <script type=\"text/javascript\">\n",
       "                require([\"plotly\"], function(Plotly) {\n",
       "                    window.PLOTLYENV=window.PLOTLYENV || {};\n",
       "                    \n",
       "                if (document.getElementById(\"d31e79ff-08eb-463b-81f1-525c65a1cfc2\")) {\n",
       "                    Plotly.newPlot(\n",
       "                        'd31e79ff-08eb-463b-81f1-525c65a1cfc2',\n",
       "                        [{\"type\": \"scatter\", \"x\": [1, 2, 3, 4], \"y\": [0.5, 0.25, 0.16666666666666666, 0.125]}, {\"type\": \"scatter\", \"x\": [1, 2, 3, 4], \"y\": [0.48, 0.24, 0.15999999999999998, 0.12]}],\n",
       "                        {\"template\": {\"data\": {\"bar\": [{\"error_x\": {\"color\": \"#2a3f5f\"}, \"error_y\": {\"color\": \"#2a3f5f\"}, \"marker\": {\"line\": {\"color\": \"#E5ECF6\", \"width\": 0.5}}, \"type\": \"bar\"}], \"barpolar\": [{\"marker\": {\"line\": {\"color\": \"#E5ECF6\", \"width\": 0.5}}, \"type\": \"barpolar\"}], \"carpet\": [{\"aaxis\": {\"endlinecolor\": \"#2a3f5f\", \"gridcolor\": \"white\", \"linecolor\": \"white\", \"minorgridcolor\": \"white\", \"startlinecolor\": \"#2a3f5f\"}, \"baxis\": {\"endlinecolor\": \"#2a3f5f\", \"gridcolor\": \"white\", \"linecolor\": \"white\", \"minorgridcolor\": \"white\", \"startlinecolor\": \"#2a3f5f\"}, \"type\": \"carpet\"}], \"choropleth\": [{\"colorbar\": {\"outlinewidth\": 0, \"ticks\": \"\"}, \"type\": \"choropleth\"}], \"contour\": [{\"colorbar\": {\"outlinewidth\": 0, \"ticks\": \"\"}, \"colorscale\": [[0.0, \"#0d0887\"], [0.1111111111111111, \"#46039f\"], [0.2222222222222222, \"#7201a8\"], [0.3333333333333333, \"#9c179e\"], [0.4444444444444444, \"#bd3786\"], [0.5555555555555556, \"#d8576b\"], [0.6666666666666666, \"#ed7953\"], [0.7777777777777778, \"#fb9f3a\"], [0.8888888888888888, \"#fdca26\"], [1.0, \"#f0f921\"]], \"type\": \"contour\"}], \"contourcarpet\": [{\"colorbar\": {\"outlinewidth\": 0, \"ticks\": \"\"}, \"type\": \"contourcarpet\"}], \"heatmap\": [{\"colorbar\": {\"outlinewidth\": 0, \"ticks\": \"\"}, \"colorscale\": [[0.0, \"#0d0887\"], [0.1111111111111111, \"#46039f\"], [0.2222222222222222, \"#7201a8\"], [0.3333333333333333, \"#9c179e\"], [0.4444444444444444, \"#bd3786\"], [0.5555555555555556, \"#d8576b\"], [0.6666666666666666, \"#ed7953\"], [0.7777777777777778, \"#fb9f3a\"], [0.8888888888888888, \"#fdca26\"], [1.0, \"#f0f921\"]], \"type\": \"heatmap\"}], \"heatmapgl\": [{\"colorbar\": {\"outlinewidth\": 0, \"ticks\": \"\"}, \"colorscale\": [[0.0, \"#0d0887\"], [0.1111111111111111, \"#46039f\"], [0.2222222222222222, \"#7201a8\"], [0.3333333333333333, \"#9c179e\"], [0.4444444444444444, \"#bd3786\"], [0.5555555555555556, \"#d8576b\"], [0.6666666666666666, \"#ed7953\"], [0.7777777777777778, \"#fb9f3a\"], [0.8888888888888888, \"#fdca26\"], [1.0, \"#f0f921\"]], \"type\": \"heatmapgl\"}], \"histogram\": [{\"marker\": {\"colorbar\": {\"outlinewidth\": 0, \"ticks\": \"\"}}, \"type\": \"histogram\"}], \"histogram2d\": [{\"colorbar\": {\"outlinewidth\": 0, \"ticks\": \"\"}, \"colorscale\": [[0.0, \"#0d0887\"], [0.1111111111111111, \"#46039f\"], [0.2222222222222222, \"#7201a8\"], [0.3333333333333333, \"#9c179e\"], [0.4444444444444444, \"#bd3786\"], [0.5555555555555556, \"#d8576b\"], [0.6666666666666666, \"#ed7953\"], [0.7777777777777778, \"#fb9f3a\"], [0.8888888888888888, \"#fdca26\"], [1.0, \"#f0f921\"]], \"type\": \"histogram2d\"}], \"histogram2dcontour\": [{\"colorbar\": {\"outlinewidth\": 0, \"ticks\": \"\"}, \"colorscale\": [[0.0, \"#0d0887\"], [0.1111111111111111, \"#46039f\"], [0.2222222222222222, \"#7201a8\"], [0.3333333333333333, \"#9c179e\"], [0.4444444444444444, \"#bd3786\"], [0.5555555555555556, \"#d8576b\"], [0.6666666666666666, \"#ed7953\"], [0.7777777777777778, \"#fb9f3a\"], [0.8888888888888888, \"#fdca26\"], [1.0, \"#f0f921\"]], \"type\": \"histogram2dcontour\"}], \"mesh3d\": [{\"colorbar\": {\"outlinewidth\": 0, \"ticks\": \"\"}, \"type\": \"mesh3d\"}], \"parcoords\": [{\"line\": {\"colorbar\": {\"outlinewidth\": 0, \"ticks\": \"\"}}, \"type\": \"parcoords\"}], \"scatter\": [{\"marker\": {\"colorbar\": {\"outlinewidth\": 0, \"ticks\": \"\"}}, \"type\": \"scatter\"}], \"scatter3d\": [{\"line\": {\"colorbar\": {\"outlinewidth\": 0, \"ticks\": \"\"}}, \"marker\": {\"colorbar\": {\"outlinewidth\": 0, \"ticks\": \"\"}}, \"type\": \"scatter3d\"}], \"scattercarpet\": [{\"marker\": {\"colorbar\": {\"outlinewidth\": 0, \"ticks\": \"\"}}, \"type\": \"scattercarpet\"}], \"scattergeo\": [{\"marker\": {\"colorbar\": {\"outlinewidth\": 0, \"ticks\": \"\"}}, \"type\": \"scattergeo\"}], \"scattergl\": [{\"marker\": {\"colorbar\": {\"outlinewidth\": 0, \"ticks\": \"\"}}, \"type\": \"scattergl\"}], \"scattermapbox\": [{\"marker\": {\"colorbar\": {\"outlinewidth\": 0, \"ticks\": \"\"}}, \"type\": \"scattermapbox\"}], \"scatterpolar\": [{\"marker\": {\"colorbar\": {\"outlinewidth\": 0, \"ticks\": \"\"}}, \"type\": \"scatterpolar\"}], \"scatterpolargl\": [{\"marker\": {\"colorbar\": {\"outlinewidth\": 0, \"ticks\": \"\"}}, \"type\": \"scatterpolargl\"}], \"scatterternary\": [{\"marker\": {\"colorbar\": {\"outlinewidth\": 0, \"ticks\": \"\"}}, \"type\": \"scatterternary\"}], \"surface\": [{\"colorbar\": {\"outlinewidth\": 0, \"ticks\": \"\"}, \"colorscale\": [[0.0, \"#0d0887\"], [0.1111111111111111, \"#46039f\"], [0.2222222222222222, \"#7201a8\"], [0.3333333333333333, \"#9c179e\"], [0.4444444444444444, \"#bd3786\"], [0.5555555555555556, \"#d8576b\"], [0.6666666666666666, \"#ed7953\"], [0.7777777777777778, \"#fb9f3a\"], [0.8888888888888888, \"#fdca26\"], [1.0, \"#f0f921\"]], \"type\": \"surface\"}], \"table\": [{\"cells\": {\"fill\": {\"color\": \"#EBF0F8\"}, \"line\": {\"color\": \"white\"}}, \"header\": {\"fill\": {\"color\": \"#C8D4E3\"}, \"line\": {\"color\": \"white\"}}, \"type\": \"table\"}]}, \"layout\": {\"annotationdefaults\": {\"arrowcolor\": \"#2a3f5f\", \"arrowhead\": 0, \"arrowwidth\": 1}, \"colorscale\": {\"diverging\": [[0, \"#8e0152\"], [0.1, \"#c51b7d\"], [0.2, \"#de77ae\"], [0.3, \"#f1b6da\"], [0.4, \"#fde0ef\"], [0.5, \"#f7f7f7\"], [0.6, \"#e6f5d0\"], [0.7, \"#b8e186\"], [0.8, \"#7fbc41\"], [0.9, \"#4d9221\"], [1, \"#276419\"]], \"sequential\": [[0.0, \"#0d0887\"], [0.1111111111111111, \"#46039f\"], [0.2222222222222222, \"#7201a8\"], [0.3333333333333333, \"#9c179e\"], [0.4444444444444444, \"#bd3786\"], [0.5555555555555556, \"#d8576b\"], [0.6666666666666666, \"#ed7953\"], [0.7777777777777778, \"#fb9f3a\"], [0.8888888888888888, \"#fdca26\"], [1.0, \"#f0f921\"]], \"sequentialminus\": [[0.0, \"#0d0887\"], [0.1111111111111111, \"#46039f\"], [0.2222222222222222, \"#7201a8\"], [0.3333333333333333, \"#9c179e\"], [0.4444444444444444, \"#bd3786\"], [0.5555555555555556, \"#d8576b\"], [0.6666666666666666, \"#ed7953\"], [0.7777777777777778, \"#fb9f3a\"], [0.8888888888888888, \"#fdca26\"], [1.0, \"#f0f921\"]]}, \"colorway\": [\"#636efa\", \"#EF553B\", \"#00cc96\", \"#ab63fa\", \"#FFA15A\", \"#19d3f3\", \"#FF6692\", \"#B6E880\", \"#FF97FF\", \"#FECB52\"], \"font\": {\"color\": \"#2a3f5f\"}, \"geo\": {\"bgcolor\": \"white\", \"lakecolor\": \"white\", \"landcolor\": \"#E5ECF6\", \"showlakes\": true, \"showland\": true, \"subunitcolor\": \"white\"}, \"hoverlabel\": {\"align\": \"left\"}, \"hovermode\": \"closest\", \"mapbox\": {\"style\": \"light\"}, \"paper_bgcolor\": \"white\", \"plot_bgcolor\": \"#E5ECF6\", \"polar\": {\"angularaxis\": {\"gridcolor\": \"white\", \"linecolor\": \"white\", \"ticks\": \"\"}, \"bgcolor\": \"#E5ECF6\", \"radialaxis\": {\"gridcolor\": \"white\", \"linecolor\": \"white\", \"ticks\": \"\"}}, \"scene\": {\"xaxis\": {\"backgroundcolor\": \"#E5ECF6\", \"gridcolor\": \"white\", \"gridwidth\": 2, \"linecolor\": \"white\", \"showbackground\": true, \"ticks\": \"\", \"zerolinecolor\": \"white\"}, \"yaxis\": {\"backgroundcolor\": \"#E5ECF6\", \"gridcolor\": \"white\", \"gridwidth\": 2, \"linecolor\": \"white\", \"showbackground\": true, \"ticks\": \"\", \"zerolinecolor\": \"white\"}, \"zaxis\": {\"backgroundcolor\": \"#E5ECF6\", \"gridcolor\": \"white\", \"gridwidth\": 2, \"linecolor\": \"white\", \"showbackground\": true, \"ticks\": \"\", \"zerolinecolor\": \"white\"}}, \"shapedefaults\": {\"line\": {\"color\": \"#2a3f5f\"}}, \"ternary\": {\"aaxis\": {\"gridcolor\": \"white\", \"linecolor\": \"white\", \"ticks\": \"\"}, \"baxis\": {\"gridcolor\": \"white\", \"linecolor\": \"white\", \"ticks\": \"\"}, \"bgcolor\": \"#E5ECF6\", \"caxis\": {\"gridcolor\": \"white\", \"linecolor\": \"white\", \"ticks\": \"\"}}, \"title\": {\"x\": 0.05}, \"xaxis\": {\"automargin\": true, \"gridcolor\": \"white\", \"linecolor\": \"white\", \"ticks\": \"\", \"zerolinecolor\": \"white\", \"zerolinewidth\": 2}, \"yaxis\": {\"automargin\": true, \"gridcolor\": \"white\", \"linecolor\": \"white\", \"ticks\": \"\", \"zerolinecolor\": \"white\", \"zerolinewidth\": 2}}}},\n",
       "                        {\"responsive\": true}\n",
       "                    ).then(function(){\n",
       "                            \n",
       "var gd = document.getElementById('d31e79ff-08eb-463b-81f1-525c65a1cfc2');\n",
       "var x = new MutationObserver(function (mutations, observer) {{\n",
       "        var display = window.getComputedStyle(gd).display;\n",
       "        if (!display || display === 'none') {{\n",
       "            console.log([gd, 'removed!']);\n",
       "            Plotly.purge(gd);\n",
       "            observer.disconnect();\n",
       "        }}\n",
       "}});\n",
       "\n",
       "// Listen for the removal of the full notebook cells\n",
       "var notebookContainer = gd.closest('#notebook-container');\n",
       "if (notebookContainer) {{\n",
       "    x.observe(notebookContainer, {childList: true});\n",
       "}}\n",
       "\n",
       "// Listen for the clearing of the current output cell\n",
       "var outputEl = gd.closest('.output');\n",
       "if (outputEl) {{\n",
       "    x.observe(outputEl, {childList: true});\n",
       "}}\n",
       "\n",
       "                        })\n",
       "                };\n",
       "                });\n",
       "            </script>\n",
       "        </div>"
      ]
     },
     "metadata": {},
     "output_type": "display_data"
    }
   ],
   "source": [
    "# Plot vocab fraction vs rank for grammar classes\n",
    "from plotly.offline import init_notebook_mode, iplot\n",
    "from plotly.graph_objs import *\n",
    "\n",
    "init_notebook_mode(connected=True)         # initiate notebook for offline plot\n",
    "\n",
    "class_freqs = Scatter(\n",
    "    x = np.array(range(1, num_classes + 1)),\n",
    "    y = words_per_class / num_words\n",
    ")\n",
    "Zipf_law = Scatter(\n",
    "    x = np.array(range(1, num_classes + 1)),\n",
    "    y = zipf_fracs\n",
    ")\n",
    "data = [class_freqs, Zipf_law]\n",
    "iplot(data)"
   ]
  },
  {
   "cell_type": "code",
   "execution_count": 45,
   "metadata": {},
   "outputs": [
    {
     "name": "stdout",
     "output_type": "stream",
     "text": [
      "{(1, 2), (3, 1), (2, 1), (2, 0), (2, 3), (1, 0), (0, 3)}\n"
     ]
    }
   ],
   "source": [
    "# Create random connectors between grammar classes\n",
    "import random as rand\n",
    "connectors = set()\n",
    "for i in range(0, num_class_connectors - 1):\n",
    "    randint1 = rand.randint(0, num_classes - 1)\n",
    "    randint2 = rand.randint(0, num_classes - 1)\n",
    "    if randint1 != randint2: # avoid classes connecting to themselves; may cause less connections than param\n",
    "        connectors.add((randint1, randint2))\n",
    "\n",
    "#connectors = set([(rand.randint(0, num_classes - 1), rand.randint(0, num_classes - 1)) for i in range(0, num_class_connectors)])\n",
    "print(connectors)"
   ]
  },
  {
   "cell_type": "code",
   "execution_count": 46,
   "metadata": {},
   "outputs": [
    {
     "name": "stdout",
     "output_type": "stream",
     "text": [
      "{0: ['C2_0-', 'C1_0-', 'C0_3+'], 1: ['C1_2+', 'C3_1-', 'C2_1-', 'C1_0+'], 2: ['C1_2-', 'C2_1+', 'C2_0+', 'C2_3+'], 3: ['C3_1+', 'C2_3-', 'C0_3-']}\n",
      "{0: [(2, 0), (1, 0), (0, 3)], 1: [(1, 2), (3, 1), (2, 1), (1, 0)], 2: [(1, 2), (2, 1), (2, 0), (2, 3)], 3: [(3, 1), (2, 3), (0, 3)]}\n"
     ]
    }
   ],
   "source": [
    "# Assign connectors to classes\n",
    "# Translate connectors into connector labels\n",
    "connectors_dict = {k:[] for k in range(num_classes)}\n",
    "connectors_dict_text = {k:[] for k in range(num_classes)}\n",
    "for connector in connectors:\n",
    "    connector_text = \"C\" + str(connector[0]) + \"_\" + str(connector[1])\n",
    "    connectors_dict[connector[0]].append(connector)\n",
    "    connectors_dict[connector[1]].append(connector)\n",
    "    connectors_dict_text[connector[0]].append(connector_text + \"+\")\n",
    "    connectors_dict_text[connector[1]].append(connector_text + \"-\")\n",
    "    \n",
    "print(connectors_dict_text)\n",
    "print(connectors_dict)"
   ]
  },
  {
   "cell_type": "code",
   "execution_count": 47,
   "metadata": {},
   "outputs": [
    {
     "name": "stdout",
     "output_type": "stream",
     "text": [
      "{0: {((2, 0), (1, 0)), ((1, 0),), ((0, 3),)}, 1: {((1, 0), (2, 1)), ((2, 1),), ((1, 2), (1, 0)), ((3, 1), (2, 1))}, 2: {((1, 2), (2, 0)), ((2, 0), (1, 2)), ((2, 1),), ((2, 3),)}, 3: {((3, 1), (2, 3)), ((0, 3), (3, 1)), ((2, 3),)}}\n"
     ]
    }
   ],
   "source": [
    "# Build the disjuncts randomly, with some directives\n",
    "dict_disjuncts = {}\n",
    "for gramm_class, connects in connectors_dict.items():\n",
    "     # don't conjunct more connectors than available ones, nor than limit\n",
    "    max_connectors = min(connectors_limit, len(connects))\n",
    "    disjuncts = []\n",
    "    \n",
    "    for connector in connects: # create one conjunct per connector; arbitrary choice\n",
    "        num_connectors = rand.randint(1, max_connectors) # determine how many connectors for this conjunct\n",
    "        conjunct = [connector] # current connector always goes in conjunct\n",
    "        \n",
    "        diff_connects = connects[:] # make independent copy\n",
    "        diff_connects.remove(connector) # don't repeat connector in a conjunct\n",
    "        conjunct.extend(rand.sample(diff_connects, num_connectors - 1)) # add random connectors to conjunct; no repeats\n",
    "            \n",
    "        disjuncts.append(conjunct)\n",
    "        \n",
    "    dict_disjuncts[gramm_class] = set(tuple(d) for d in disjuncts) # set eliminates duplicate disjuncts\n",
    "\n",
    "print(dict_disjuncts)"
   ]
  },
  {
   "cell_type": "code",
   "execution_count": 48,
   "metadata": {},
   "outputs": [
    {
     "name": "stdout",
     "output_type": "stream",
     "text": [
      "\n",
      "% RANDOM GRAMMAR with parameters:\n",
      "% num_words = 24\n",
      "% num_classes = 4\n",
      "% num_class_connectors = 10\n",
      "% connectors_limit = 2\n",
      "%%%%%%%%%%%%%%%%%%%%%%%%%%%%%%%%%%%%%%%%%%%%%%%%%\n",
      "\n",
      "% Class: 0\n",
      "\"W0_0\", \"W1_0\", \"W2_0\", \"W3_0\", \"W4_0\", \"W5_0\", \"W6_0\", \"W7_0\", \"W8_0\", \"W9_0\", \"W10_0\", \"W11_0\":\n",
      "(C2_0- & C1_0-) or (C1_0-) or (C0_3+);\n",
      "\n",
      "% Class: 1\n",
      "\"W12_1\", \"W13_1\", \"W14_1\", \"W15_1\", \"W16_1\", \"W17_1\":\n",
      "(C1_0+ & C2_1-) or (C2_1-) or (C1_2+ & C1_0+) or (C3_1- & C2_1-);\n",
      "\n",
      "% Class: 2\n",
      "\"W18_2\", \"W19_2\", \"W20_2\", \"W21_2\":\n",
      "(C1_2- & C2_0+) or (C2_0+ & C1_2-) or (C2_1+) or (C2_3+);\n",
      "\n",
      "% Class: 3\n",
      "\"W22_3\", \"W23_3\", \"W24_3\":\n",
      "(C3_1+ & C2_3-) or (C0_3- & C3_1+) or (C2_3-);\n",
      "\n",
      "\n"
     ]
    }
   ],
   "source": [
    "# Translate grammar to dictionary format\n",
    "grammar_text = f\"\"\"\n",
    "% RANDOM GRAMMAR with parameters:\n",
    "% num_words = {num_words}\n",
    "% num_classes = {num_classes}\n",
    "% num_class_connectors = {num_class_connectors}\n",
    "% connectors_limit = {connectors_limit}\n",
    "%%%%%%%%%%%%%%%%%%%%%%%%%%%%%%%%%%%%%%%%%%%%%%%%%\n",
    "\n",
    "\"\"\"\n",
    "\n",
    "for curr_class, disjunct in dict_disjuncts.items():\n",
    "    class_entry = f\"% Class: {curr_class}\\n\" # Description of current disjunct\n",
    "    # Calculate initial word_id for class\n",
    "    if curr_class == 0:\n",
    "        lower_id = 0\n",
    "    else:\n",
    "        lower_id = cumul_words[curr_class - 1]\n",
    "        \n",
    "    # Add word list to class_entry\n",
    "    class_words = [f'\"W{i}_{curr_class}\"' for i in range(lower_id, cumul_words[curr_class])]\n",
    "    class_entry += \", \".join(class_words) + \":\\n\"\n",
    "    \n",
    "    # Add every conjunct to disjunct\n",
    "    curr_disjunct = []\n",
    "    for conjunct in disjunct:\n",
    "        curr_conjunct = []\n",
    "        for connector in conjunct:\n",
    "            connector_text = \"C\" + str(connector[0]) + \"_\" + str(connector[1])\n",
    "            sign = \"+\" if connector[0] == curr_class else \"-\" # choose connector sign\n",
    "            curr_conjunct.append(connector_text + sign)\n",
    "        curr_disjunct.append(\" & \".join(curr_conjunct))\n",
    "        \n",
    "    class_entry += \"(\" + \") or (\".join(curr_disjunct) + \");\\n\\n\"\n",
    "    grammar_text += class_entry\n",
    "    \n",
    "print(grammar_text)"
   ]
  },
  {
   "cell_type": "markdown",
   "metadata": {},
   "source": [
    "# As grammar is ready, let's generate a corpus from it"
   ]
  },
  {
   "cell_type": "code",
   "execution_count": 49,
   "metadata": {},
   "outputs": [],
   "source": [
    "import collections\n",
    "import random\n",
    "\n",
    "class GrammarSampler(object):\n",
    "    def __init__(self, grammar, cumul_words):\n",
    "        self.grammar = grammar\n",
    "        self.word_dist = cumul_words\n",
    "        self.word_dist = np.insert(self.word_dist, 0, 0) # help to select words\n",
    "        self.counter = 0\n",
    "        self.links = {}\n",
    "        self.sentence = None\n",
    "        self.flatTree = None\n",
    "        self.ullParse = None\n",
    "        self.ullLinks = []\n",
    "        \n",
    "    def ReturnPos(self, word_string):\n",
    "        \"\"\"\n",
    "        Given a word string, find its position in the tree\n",
    "        \"\"\"\n",
    "        split_word = word_string.split(\"_\")\n",
    "        word_tuple = (int(split_word[2]), int(split_word[1]))\n",
    "        return self.flatTree.index(word_tuple)\n",
    "\n",
    "    def GenerateParse(self):\n",
    "        \"\"\"\n",
    "        Generate a lexical tree and return an its corresponding sentence\n",
    "        \"\"\"\n",
    "        # First generate a random tree\n",
    "        tree_sample = self.GenerateTree()\n",
    "        print(f\"Tree:\\n{tree_sample}\")\n",
    "        self.flatTree = list(self.Flatten(tree_sample))\n",
    "        print(f\"Flat tree: {self.flatTree}\")\n",
    "        \n",
    "        # Obtain links from random tree\n",
    "        self.ConstructLinks(tree_sample)\n",
    "        sentence_array = np.full(len(self.flatTree), None) # initialize empty sentence array\n",
    "        \n",
    "        # Fill sentence array\n",
    "        for key, value in self.links.items():\n",
    "            key_pos = self.ReturnPos(key) # search for word-instance position in the tree\n",
    "            sentence_array[key_pos] = key \n",
    "            for val in value:\n",
    "                val_pos = self.ReturnPos(val)\n",
    "                sentence_array[val_pos] = val\n",
    "                self.ullLinks.append(f\"{key_pos} {key} {val_pos} {val}\")\n",
    "                \n",
    "        # Concatenate parse text output\n",
    "        self.sentence = \" \".join(sentence_array)\n",
    "        self.ullParse = f\"{self.sentence}\\n\" + \"\\n\".join(self.ullLinks)\n",
    "        print(f\"Sentence: {self.sentence}\")\n",
    "        print(f\"ULL parse: \\n{self.ullParse}\")\n",
    "        \n",
    "    def Flatten(self, l): # taken from https://stackoverflow.com/questions/2158395/flatten-an-irregular-list-of-lists\n",
    "        \"\"\"\n",
    "        Given a list of nested lists, returns a flat structure in the same sequence.\n",
    "        Useful to find the order of words in a sentence\n",
    "        \"\"\"\n",
    "        for el in l:\n",
    "            if isinstance(el, collections.Iterable) and not isinstance(el, (str, bytes, tuple)):\n",
    "                yield from self.Flatten(el)\n",
    "            else:\n",
    "                yield el    \n",
    "    \n",
    "    def ChooseConjunct(self, connector, disjunct):\n",
    "        \"\"\"\n",
    "        Chooses a random conjunct from the ones in disjunct that contain connector\n",
    "        \"\"\"\n",
    "        valid_conjs = [conj for conj in disjunct if connector in conj] # filters inappropriate connectors\n",
    "        return list(rand.choice(valid_conjs))\n",
    "\n",
    "    def GenerateTree(self, node_class = None, connector = ()):\n",
    "        \"\"\" \n",
    "        Generate a random tree of class elements from the\n",
    "        grammar, starting with the given class.\n",
    "        \"\"\"\n",
    "        if self.counter == 0: # handle initial case\n",
    "            node_class = rand.randint(0, len(self.grammar) - 1)\n",
    "            print(f\"Seed node_class: {node_class}\")\n",
    "            conjunct = rand.sample(self.grammar[node_class], 1)[0]\n",
    "        else:\n",
    "            # select one valid production of this class randomly\n",
    "            conjunct = self.ChooseConjunct(connector, self.grammar[node_class])\n",
    "            conjunct.remove(connector) # eliminate connector already used\n",
    "\n",
    "        tree = [(self.counter, node_class)] # leaf tuple structure: (word_order, class)\n",
    "\n",
    "        # for non-terminals, recurse\n",
    "        for conn in conjunct:\n",
    "            self.counter += 1\n",
    "            new_node_class = list(conn)\n",
    "            new_node_class.remove(node_class)\n",
    "            # determine to insert subtree at beginning or end of current one\n",
    "            insert_pos = len(tree) if conn.index(node_class) == 0 else 0\n",
    "            tree.insert(insert_pos, self.GenerateTree(new_node_class[0], conn))\n",
    "            \n",
    "        return tree\n",
    "    \n",
    "    def SampleWord(self, pos, grammar_class):\n",
    "        \"\"\"\n",
    "        Samples word from given grammar_class, and returns string in format\n",
    "        \"Wa_b_c\", where a is the word number, b is the word class, c is word's position\n",
    "        in the sentence\n",
    "        \"\"\"\n",
    "        chosen_word = rand.randint(self.word_dist[grammar_class], self.word_dist[grammar_class + 1] - 1)\n",
    "        word_string = \"W\" + str(chosen_word) + f\"_{grammar_class}_\" + str(pos)\n",
    "        return word_string\n",
    "        \n",
    "    def ConstructLinks(self, tree):\n",
    "        \"\"\"\n",
    "        Given a tree, store the links it contains in self.links\n",
    "        \"\"\"\n",
    "        curr_word_class = [i for i in tree if isinstance(i, tuple)][0]\n",
    "        curr_string = self.SampleWord(curr_word_class[0], curr_word_class[1]) # Samples word in string format\n",
    "        \n",
    "        # non-terminal case\n",
    "        if len(tree) > 1:\n",
    "            self.links[curr_string] = []\n",
    "            tree.remove(curr_word_class)\n",
    "            for subtree in tree:\n",
    "                self.links[curr_string].append(self.ConstructLinks(subtree))\n",
    "                \n",
    "        return curr_string"
   ]
  },
  {
   "cell_type": "code",
   "execution_count": 56,
   "metadata": {},
   "outputs": [
    {
     "name": "stdout",
     "output_type": "stream",
     "text": [
      "{0: {((2, 0), (1, 0)), ((1, 0),), ((0, 3),)}, 1: {((1, 0), (2, 1)), ((2, 1),), ((1, 2), (1, 0)), ((3, 1), (2, 1))}, 2: {((1, 2), (2, 0)), ((2, 0), (1, 2)), ((2, 1),), ((2, 3),)}, 3: {((3, 1), (2, 3)), ((0, 3), (3, 1)), ((2, 3),)}}\n",
      "\n",
      "% RANDOM GRAMMAR with parameters:\n",
      "% num_words = 24\n",
      "% num_classes = 4\n",
      "% num_class_connectors = 10\n",
      "% connectors_limit = 2\n",
      "%%%%%%%%%%%%%%%%%%%%%%%%%%%%%%%%%%%%%%%%%%%%%%%%%\n",
      "\n",
      "% Class: 0\n",
      "\"W0_0\", \"W1_0\", \"W2_0\", \"W3_0\", \"W4_0\", \"W5_0\", \"W6_0\", \"W7_0\", \"W8_0\", \"W9_0\", \"W10_0\", \"W11_0\":\n",
      "(C2_0- & C1_0-) or (C1_0-) or (C0_3+);\n",
      "\n",
      "% Class: 1\n",
      "\"W12_1\", \"W13_1\", \"W14_1\", \"W15_1\", \"W16_1\", \"W17_1\":\n",
      "(C1_0+ & C2_1-) or (C2_1-) or (C1_2+ & C1_0+) or (C3_1- & C2_1-);\n",
      "\n",
      "% Class: 2\n",
      "\"W18_2\", \"W19_2\", \"W20_2\", \"W21_2\":\n",
      "(C1_2- & C2_0+) or (C2_0+ & C1_2-) or (C2_1+) or (C2_3+);\n",
      "\n",
      "% Class: 3\n",
      "\"W22_3\", \"W23_3\", \"W24_3\":\n",
      "(C3_1+ & C2_3-) or (C0_3- & C3_1+) or (C2_3-);\n",
      "\n",
      "\n",
      "Seed node_class: 2\n",
      "Tree:\n",
      "[[(1, 1), [(2, 0)]], (0, 2), [[(4, 1), [(5, 2), [[[(8, 2)], (7, 1)], (6, 0)]]], (3, 0)]]\n",
      "Flat tree: [(1, 1), (2, 0), (0, 2), (4, 1), (5, 2), (8, 2), (7, 1), (6, 0), (3, 0)]\n",
      "Sentence: W15_1_1 W7_0_2 W21_2_0 W17_1_4 W20_2_5 W19_2_8 W16_1_7 W4_0_6 W6_0_3\n",
      "ULL parse: \n",
      "W15_1_1 W7_0_2 W21_2_0 W17_1_4 W20_2_5 W19_2_8 W16_1_7 W4_0_6 W6_0_3\n",
      "2 W21_2_0 0 W15_1_1\n",
      "2 W21_2_0 8 W6_0_3\n",
      "0 W15_1_1 1 W7_0_2\n",
      "8 W6_0_3 3 W17_1_4\n",
      "3 W17_1_4 4 W20_2_5\n",
      "4 W20_2_5 7 W4_0_6\n",
      "7 W4_0_6 6 W16_1_7\n",
      "6 W16_1_7 5 W19_2_8\n"
     ]
    }
   ],
   "source": [
    "print(dict_disjuncts)\n",
    "print(grammar_text)\n",
    "test = GrammarSampler(dict_disjuncts, cumul_words)\n",
    "test.GenerateParse()"
   ]
  },
  {
   "cell_type": "code",
   "execution_count": null,
   "metadata": {},
   "outputs": [],
   "source": []
  }
 ],
 "metadata": {
  "kernelspec": {
   "display_name": "Python 3",
   "language": "python",
   "name": "python3"
  },
  "language_info": {
   "codemirror_mode": {
    "name": "ipython",
    "version": 3
   },
   "file_extension": ".py",
   "mimetype": "text/x-python",
   "name": "python",
   "nbconvert_exporter": "python",
   "pygments_lexer": "ipython3",
   "version": "3.7.3"
  }
 },
 "nbformat": 4,
 "nbformat_minor": 2
}
